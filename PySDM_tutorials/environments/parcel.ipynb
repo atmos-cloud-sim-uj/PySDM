{
 "cells": [
  {
   "cell_type": "markdown",
   "metadata": {
    "pycharm": {
     "name": "#%% md\n"
    }
   },
   "source": [
    "[![Binder](https://mybinder.org/badge_logo.svg)](https://mybinder.org/v2/gh/atmos-cloud-sim-uj/PySDM.git/master?filepath=PySDM_tutorials/environments/parcel.ipynb)\n",
    "  \n",
    "[![Open In Colab](https://colab.research.google.com/assets/colab-badge.svg)](https://colab.research.google.com/github/atmos-cloud-sim-uj/PySDM/blob/master/PySDM_tutorials/environments/parcel.ipynb)"
   ]
  },
  {
   "cell_type": "code",
   "execution_count": 1,
   "metadata": {
    "collapsed": true
   },
   "outputs": [],
   "source": [
    "\"\"\"\n",
    "clone and install PySDM dependencies in Colab\n",
    "(to use GPU on Colab set hardware accelerator to 'GPU' before session start\n",
    "in the \"Runtime :: Change runtime type :: Hardware accelerator\" menu)\n",
    "\"\"\"\n",
    "import os, sys\n",
    "if 'google.colab' in sys.modules:\n",
    "    %cd /content\n",
    "    if not os.path.isdir('PySDM'):\n",
    "        !git clone --depth 1 https://github.com/atmos-cloud-sim-uj/PySDM.git\n",
    "    %cd PySDM\n",
    "    !pip install -r requirements.txt"
   ]
  },
  {
   "cell_type": "code",
   "execution_count": 2,
   "metadata": {
    "pycharm": {
     "name": "#%%\n"
    }
   },
   "outputs": [],
   "source": [
    "import os, sys\n",
    "if 'google.colab' in sys.modules:\n",
    "    %cd /content/PySDM\n",
    "else:\n",
    "    sys.path.insert(0, os.path.join(os.getcwd(), '../..'))"
   ]
  },
  {
   "cell_type": "code",
   "execution_count": 3,
   "metadata": {
    "pycharm": {
     "name": "#%%\n"
    }
   },
   "outputs": [],
   "source": [
    "import numpy as np\n",
    "\n",
    "from PySDM.physics import si\n",
    "from PySDM.initialisation import spectral_sampling\n",
    "from PySDM.initialisation import multiplicities\n",
    "from PySDM.initialisation.spectra import Lognormal\n",
    "from PySDM.backends import CPU\n",
    "from PySDM import Builder\n",
    "from PySDM.dynamics import AmbientThermodynamics\n",
    "from PySDM.dynamics import Condensation\n",
    "from PySDM.environments import Parcel\n",
    "from PySDM.physics import formulae as phys\n",
    "from PySDM.initialisation.r_wet_init import r_wet_init\n",
    "from PySDM.products import ParticleMeanRadius, RelativeHumidity, CloudConcentration\n",
    "\n",
    "builder = Builder(backend=CPU, n_sd=1)\n",
    "environment = Parcel(\n",
    "    dt=1 * si.s,\n",
    "    mass_of_dry_air=1 * si.kg,\n",
    "    p0=1000 * si.hPa,\n",
    "    q0=20 * si.g / si.kg,\n",
    "    T0=300 * si.K,\n",
    "    w= 1 * si.m / si.s\n",
    ")\n",
    "builder.set_environment(environment)\n",
    "\n",
    "kappa = 1 * si.dimensionless\n",
    "builder.add_dynamic(AmbientThermodynamics())\n",
    "builder.add_dynamic(Condensation(kappa=kappa))\n",
    "\n",
    "attributes = {}\n",
    "r_dry, specific_concentration = spectral_sampling.Logarithmic(\n",
    "            spectrum=Lognormal(\n",
    "                norm_factor=1000 / si.milligram,\n",
    "                m_mode=50 * si.nanometre,\n",
    "                s_geom=1.4 * si.dimensionless\n",
    "            ),\n",
    "            size_range=(10.633 * si.nanometre, 513.06 * si.nanometre)\n",
    "        ).sample(n_sd=builder.core.n_sd)\n",
    "attributes['dry volume'] = phys.volume(radius=r_dry)\n",
    "attributes['n'] = multiplicities.discretise_n(specific_concentration * environment.mass_of_dry_air)\n",
    "r_wet = r_wet_init(r_dry, environment, np.zeros_like(attributes['n']), kappa)\n",
    "attributes['volume'] = phys.volume(radius=r_wet)\n",
    "\n",
    "products = [ParticleMeanRadius(), RelativeHumidity(), CloudConcentration(radius_range=(.5 * si.um, 25 * si.um))]\n",
    "\n",
    "core = builder.build(attributes, products)\n",
    "output = {product.name: [product.get()[0]] for product in core.products.values()}\n",
    "output['z'] = [environment['z'][0]]\n",
    "\n",
    "for step in range(100):\n",
    "    core.run(steps=10)\n",
    "    for product in core.products.values():\n",
    "        output[product.name].append(product.get()[0])\n",
    "    output['z'].append(environment['z'][0])"
   ]
  },
  {
   "cell_type": "code",
   "execution_count": 4,
   "outputs": [
    {
     "data": {
      "text/plain": "<Figure size 432x288 with 3 Axes>",
      "image/png": "[encoded data removed]"
     },
     "metadata": {
      "needs_background": "light"
     },
     "output_type": "display_data"
    }
   ],
   "source": [
    "from matplotlib import pyplot\n",
    "\n",
    "fig, axs = pyplot.subplots(1, len(core.products), sharey=\"all\")\n",
    "for i, (key, product) in enumerate(core.products.items()):\n",
    "    axs[i].step(output[key], output['z'])\n",
    "    axs[i].set_title(product.description)\n",
    "    axs[i].set_xlabel(product.unit)"
   ],
   "metadata": {
    "collapsed": false,
    "pycharm": {
     "name": "#%%\n"
    }
   }
  },
  {
   "cell_type": "code",
   "execution_count": 4,
   "metadata": {
    "pycharm": {
     "name": "#%%\n"
    }
   },
   "outputs": [],
   "source": []
  },
  {
   "cell_type": "code",
   "execution_count": 4,
   "metadata": {
    "pycharm": {
     "name": "#%%\n"
    }
   },
   "outputs": [],
   "source": []
  }
 ],
 "metadata": {
  "kernelspec": {
   "display_name": "Python 3",
   "language": "python",
   "name": "python3"
  },
  "language_info": {
   "codemirror_mode": {
    "name": "ipython",
    "version": 3
   },
   "file_extension": ".py",
   "mimetype": "text/x-python",
   "name": "python",
   "nbconvert_exporter": "python",
   "pygments_lexer": "ipython3",
   "version": "3.8.2"
  }
 },
 "nbformat": 4,
 "nbformat_minor": 1
}
